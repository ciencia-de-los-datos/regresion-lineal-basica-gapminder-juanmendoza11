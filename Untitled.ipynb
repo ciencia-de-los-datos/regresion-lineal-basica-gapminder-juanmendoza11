{
 "cells": [
  {
   "cell_type": "code",
   "execution_count": 2,
   "id": "5e97078b",
   "metadata": {},
   "outputs": [
    {
     "name": "stdout",
     "output_type": "stream",
     "text": [
      "(139,)\n",
      "(139,)\n",
      "139\n",
      "139\n"
     ]
    }
   ],
   "source": [
    "import pandas as pd\n",
    "import numpy as np\n",
    "df = pd.read_csv('gm_2008_region.csv')\n",
    "y = df['life']\n",
    "X = df['fertility']\n",
    "print(y.shape)\n",
    "print(X.shape)\n",
    "y_reshaped = y.values.reshape(139,1)\n",
    "X_reshaped = X.values.reshape(139,1)\n",
    "print(y_reshaped.size)\n",
    "print(X_reshaped.size)"
   ]
  },
  {
   "cell_type": "code",
   "execution_count": 3,
   "id": "ed65f84a",
   "metadata": {},
   "outputs": [
    {
     "name": "stdout",
     "output_type": "stream",
     "text": [
      "(139, 10)\n",
      "[[ 1.     -0.7869]\n",
      " [-0.7869  1.    ]]\n",
      "69.6029\n",
      "<class 'pandas.core.series.Series'>\n",
      "[[1.    0.629]\n",
      " [0.629 1.   ]]\n"
     ]
    }
   ],
   "source": [
    "df = pd.read_csv('gm_2008_region.csv')\n",
    "print(df.shape)\n",
    "print(np.corrcoef(df['fertility'], df['life']).round(4))\n",
    "print(np.mean(y_reshaped).round(4))\n",
    "print(type(df['fertility']))\n",
    "print(np.corrcoef(df['GDP'], df['life']).round(4))"
   ]
  },
  {
   "cell_type": "code",
   "execution_count": 21,
   "id": "2dd0ee90",
   "metadata": {},
   "outputs": [
    {
     "name": "stdout",
     "output_type": "stream",
     "text": [
      "0.6192\n"
     ]
    }
   ],
   "source": [
    "df = pd.read_csv('gm_2008_region.csv')\n",
    "X_fertility = df['fertility'].values.reshape(-1,1)\n",
    "y_life = df['life'].values.reshape(-1,1)\n",
    "from sklearn.linear_model import LinearRegression\n",
    "reg=LinearRegression()\n",
    "prediction_space = np.linspace(X_fertility.min(),X_fertility.max()).reshape(-1,1)\n",
    "reg.fit(X_fertility,y_life)\n",
    "y_pred = reg.predict(prediction_space)\n",
    "print(reg.score(X_fertility,y_life).round(4))"
   ]
  }
 ],
 "metadata": {
  "kernelspec": {
   "display_name": "Python 3 (ipykernel)",
   "language": "python",
   "name": "python3"
  },
  "language_info": {
   "codemirror_mode": {
    "name": "ipython",
    "version": 3
   },
   "file_extension": ".py",
   "mimetype": "text/x-python",
   "name": "python",
   "nbconvert_exporter": "python",
   "pygments_lexer": "ipython3",
   "version": "3.7.10"
  }
 },
 "nbformat": 4,
 "nbformat_minor": 5
}
