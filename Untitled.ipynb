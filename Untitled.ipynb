{
 "cells": [
  {
   "cell_type": "code",
   "execution_count": 7,
   "id": "5e97078b",
   "metadata": {},
   "outputs": [
    {
     "name": "stdout",
     "output_type": "stream",
     "text": [
      "139\n",
      "139\n",
      "139\n",
      "139\n"
     ]
    }
   ],
   "source": [
    "import pandas as pd\n",
    "import numpy as np\n",
    "df = pd.read_csv('gm_2008_region.csv')\n",
    "y = df['life'].values\n",
    "X = df['fertility'].values\n",
    "print(y.size)\n",
    "print(X.size)\n",
    "y_reshaped = y.reshape(139,1)\n",
    "X_reshaped = X.reshape(139,1)\n",
    "print(y_reshaped.size)\n",
    "print(X_reshaped.size)"
   ]
  },
  {
   "cell_type": "code",
   "execution_count": null,
   "id": "48fd72c6",
   "metadata": {},
   "outputs": [],
   "source": []
  }
 ],
 "metadata": {
  "kernelspec": {
   "display_name": "Python 3 (ipykernel)",
   "language": "python",
   "name": "python3"
  },
  "language_info": {
   "codemirror_mode": {
    "name": "ipython",
    "version": 3
   },
   "file_extension": ".py",
   "mimetype": "text/x-python",
   "name": "python",
   "nbconvert_exporter": "python",
   "pygments_lexer": "ipython3",
   "version": "3.7.10"
  }
 },
 "nbformat": 4,
 "nbformat_minor": 5
}
