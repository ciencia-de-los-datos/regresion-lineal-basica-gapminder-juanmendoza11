{
 "cells": [
  {
   "cell_type": "code",
   "execution_count": 32,
   "id": "5e97078b",
   "metadata": {},
   "outputs": [
    {
     "name": "stdout",
     "output_type": "stream",
     "text": [
      "(139,)\n",
      "(139,)\n",
      "(139, 1)\n",
      "(139, 1)\n"
     ]
    }
   ],
   "source": [
    "import pandas as pd\n",
    "import numpy as np\n",
    "df = pd.read_csv('gm_2008_region.csv')\n",
    "y = df['life']\n",
    "X = df['fertility']\n",
    "print(y.shape)\n",
    "print(X.shape)\n",
    "y_reshaped = y.values.reshape(139,1)\n",
    "X_reshaped = X.values.reshape(139,1)\n",
    "print(y_reshaped.shape)\n",
    "print(X_reshaped.shape)"
   ]
  },
  {
   "cell_type": "code",
   "execution_count": 37,
   "id": "ed65f84a",
   "metadata": {},
   "outputs": [
    {
     "name": "stdout",
     "output_type": "stream",
     "text": [
      "(139, 10)\n",
      "-0.7869\n",
      "69.60287769784175 4\n",
      "<class 'pandas.core.series.Series'>\n",
      "0.629\n"
     ]
    }
   ],
   "source": [
    "# Lea el archivo `gm_2008_region.csv` y asignelo al DataFrame `df`\n",
    "df = pd.read_csv('gm_2008_region.csv', sep=\",\", header=0)\n",
    "\n",
    "# Imprima las dimensiones del DataFrame\n",
    "print(df.shape)\n",
    "\n",
    "# Imprima la correlación entre las columnas `life` y `fertility` con 4 decimales.\n",
    "print(df['life'].corr(df['fertility']).round(4))\n",
    "\n",
    "# Imprima la media de la columna `life` con 4 decimales.\n",
    "print(df['life'].mean(),4)\n",
    "\n",
    "# Imprima el tipo de dato de la columna `fertility`.\n",
    "print(type(df['fertility']))\n",
    "\n",
    "# Imprima la correlación entre las columnas `GDP` y `life` con 4 decimales.\n",
    "print(df[\"GDP\"].corr(df[\"life\"]).round(4))"
   ]
  },
  {
   "cell_type": "code",
   "execution_count": 38,
   "id": "2dd0ee90",
   "metadata": {},
   "outputs": [
    {
     "name": "stdout",
     "output_type": "stream",
     "text": [
      "0.6192\n"
     ]
    }
   ],
   "source": [
    "df = pd.read_csv('gm_2008_region.csv')\n",
    "X_fertility = df['fertility'].values.reshape(-1,1)\n",
    "y_life = df['life'].values.reshape(-1,1)\n",
    "from sklearn.linear_model import LinearRegression\n",
    "reg=LinearRegression()\n",
    "prediction_space = np.linspace(X_fertility.min(),X_fertility.max()).reshape(-1,1)\n",
    "reg.fit(X_fertility,y_life)\n",
    "y_pred = reg.predict(prediction_space)\n",
    "print(reg.score(X_fertility,y_life).round(4))"
   ]
  },
  {
   "cell_type": "code",
   "execution_count": 29,
   "id": "9ad68d67",
   "metadata": {},
   "outputs": [
    {
     "name": "stdout",
     "output_type": "stream",
     "text": [
      "R^2: 0.4983\n",
      "Root Mean Squared Error: 7.2485\n"
     ]
    }
   ],
   "source": [
    "from sklearn.linear_model import LinearRegression\n",
    "from sklearn.model_selection import train_test_split\n",
    "from sklearn.metrics import mean_squared_error\n",
    "\n",
    "df = pd.read_csv('gm_2008_region.csv')\n",
    "X_fertility = df['fertility'].values.reshape(-1,1)\n",
    "y_life = df['life'].values.reshape(-1,1)\n",
    "(X_train, X_test, y_train, y_test,) = train_test_split(\n",
    "X_fertility,\n",
    "y_life,\n",
    "test_size=53,\n",
    "random_state=80)\n",
    "linearRegression = LinearRegression()\n",
    "linearRegression.fit(X_train, y_train)\n",
    "y_pred = linearRegression.predict(X_test)\n",
    "print(\"R^2: {:6.4f}\".format(linearRegression.score(X_test, y_test)))\n",
    "rmse = np.sqrt(mean_squared_error(y_test, y_pred))\n",
    "print(\"Root Mean Squared Error: {:6.4f}\".format(rmse))"
   ]
  }
 ],
 "metadata": {
  "kernelspec": {
   "display_name": "Python 3 (ipykernel)",
   "language": "python",
   "name": "python3"
  },
  "language_info": {
   "codemirror_mode": {
    "name": "ipython",
    "version": 3
   },
   "file_extension": ".py",
   "mimetype": "text/x-python",
   "name": "python",
   "nbconvert_exporter": "python",
   "pygments_lexer": "ipython3",
   "version": "3.7.10"
  }
 },
 "nbformat": 4,
 "nbformat_minor": 5
}
